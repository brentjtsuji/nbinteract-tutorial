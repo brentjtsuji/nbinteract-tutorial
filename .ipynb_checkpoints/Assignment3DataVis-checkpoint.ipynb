{
 "cells": [
  {
   "cell_type": "code",
   "execution_count": 1,
   "metadata": {},
   "outputs": [],
   "source": [
    "import numpy as np\n",
    "import seaborn as sns\n",
    "import matplotlib.pyplot as plt\n",
    "import pandas as pd"
   ]
  },
  {
   "cell_type": "code",
   "execution_count": 2,
   "metadata": {},
   "outputs": [],
   "source": [
    "df_grades = pd.read_csv(\"grades.csv\")\n",
    "df_sp500 = pd.read_csv(\"SP500_ind.csv\")"
   ]
  },
  {
   "cell_type": "code",
   "execution_count": 3,
   "metadata": {},
   "outputs": [
    {
     "data": {
      "text/plain": [
       "Index(['Exercise 1 [Total Pts: 5 Score] |1292496',\n",
       "       'Exercise 2 [Total Pts: 5 Score] |1293779',\n",
       "       'Exercise 3 [Total Pts: 5 Score] |1295703',\n",
       "       'Exercise 4 [Total Pts: 5 Score] |1298674',\n",
       "       'Exercise 5 [Total Pts: 5 Score] |1305116',\n",
       "       'Exercise 6 [Total Pts: 5 Score] |1302431',\n",
       "       'Exercise 7 [Total Pts: 5 Score] |1309942',\n",
       "       'Exercise 8 [Total Pts: 5 Score] |1309952',\n",
       "       'Exercise 9 [Total Pts: 5 Score] |1309468',\n",
       "       'Homework 1 [Total Pts: 20 Score] |1293619',\n",
       "       'Homework 2 [Total Pts: 20 Score] |1297002',\n",
       "       'Homework 3 [Total Pts: 20 Score] |1301007',\n",
       "       'Homework 4 [Total Pts: 20 Score] |1308148',\n",
       "       'Homework 5 [Total Pts: 20 Score] |1311965',\n",
       "       'Project 1 [Total Pts: 50 Score] |1305663',\n",
       "       'Project 2 [Total Pts: 50 Score] |1309818',\n",
       "       'Quiz 1 [Total Pts: 50 Score] |1297564',\n",
       "       'Quiz 2 [Total Pts: 50 Score] |1299119',\n",
       "       'Q34-max [Total Pts: 50 Score] |1311917',\n",
       "       'Midterm [Total Pts: 100 Score] |1302009',\n",
       "       'Final [Total Pts: 100 Score] |1313303',\n",
       "       'Weighted Total [Total Pts: up to 77.25 Percentage] |1258242',\n",
       "       'Q-min [Total Pts: 50 Score] |1308090',\n",
       "       'Bonus [Total Pts: 10 Score] |1305932',\n",
       "       'Grade [Total Pts: 0 Text] |1313307'],\n",
       "      dtype='object')"
      ]
     },
     "execution_count": 3,
     "metadata": {},
     "output_type": "execute_result"
    }
   ],
   "source": [
    "df_grades.columns"
   ]
  },
  {
   "cell_type": "code",
   "execution_count": 4,
   "metadata": {},
   "outputs": [
    {
     "data": {
      "text/plain": [
       "<matplotlib.axes._subplots.AxesSubplot at 0x21550e79208>"
      ]
     },
     "execution_count": 4,
     "metadata": {},
     "output_type": "execute_result"
    },
    {
     "data": {
      "image/png": "[encoded data removed]",
      "text/plain": [
       "<Figure size 432x288 with 1 Axes>"
      ]
     },
     "metadata": {
      "needs_background": "light"
     },
     "output_type": "display_data"
    }
   ],
   "source": [
    "sns.boxplot(x='Weighted Total [Total Pts: up to 77.25 Percentage] |1258242', data = df_grades)"
   ]
  },
  {
   "cell_type": "code",
   "execution_count": 5,
   "metadata": {},
   "outputs": [],
   "source": [
    "df_hw = df_grades.transpose()[9:14]"
   ]
  },
  {
   "cell_type": "code",
   "execution_count": 6,
   "metadata": {},
   "outputs": [
    {
     "data": {
      "text/html": [
       "<div>\n",
       "<style scoped>\n",
       "    .dataframe tbody tr th:only-of-type {\n",
       "        vertical-align: middle;\n",
       "    }\n",
       "\n",
       "    .dataframe tbody tr th {\n",
       "        vertical-align: top;\n",
       "    }\n",
       "\n",
       "    .dataframe thead th {\n",
       "        text-align: right;\n",
       "    }\n",
       "</style>\n",
       "<table border=\"1\" class=\"dataframe\">\n",
       "  <thead>\n",
       "    <tr style=\"text-align: right;\">\n",
       "      <th></th>\n",
       "      <th>Homework 1 [Total Pts: 20 Score] |1293619</th>\n",
       "      <th>Homework 2 [Total Pts: 20 Score] |1297002</th>\n",
       "      <th>Homework 3 [Total Pts: 20 Score] |1301007</th>\n",
       "      <th>Homework 4 [Total Pts: 20 Score] |1308148</th>\n",
       "      <th>Homework 5 [Total Pts: 20 Score] |1311965</th>\n",
       "    </tr>\n",
       "  </thead>\n",
       "  <tbody>\n",
       "    <tr>\n",
       "      <td>0</td>\n",
       "      <td>12.5</td>\n",
       "      <td>18</td>\n",
       "      <td>20</td>\n",
       "      <td>11.5</td>\n",
       "      <td>12.5</td>\n",
       "    </tr>\n",
       "    <tr>\n",
       "      <td>1</td>\n",
       "      <td>19</td>\n",
       "      <td>18</td>\n",
       "      <td>15</td>\n",
       "      <td>17.5</td>\n",
       "      <td>16.5</td>\n",
       "    </tr>\n",
       "    <tr>\n",
       "      <td>2</td>\n",
       "      <td>16</td>\n",
       "      <td>18.5</td>\n",
       "      <td>20</td>\n",
       "      <td>17.5</td>\n",
       "      <td>18</td>\n",
       "    </tr>\n",
       "    <tr>\n",
       "      <td>3</td>\n",
       "      <td>14</td>\n",
       "      <td>16.5</td>\n",
       "      <td>0</td>\n",
       "      <td>6.5</td>\n",
       "      <td>NaN</td>\n",
       "    </tr>\n",
       "    <tr>\n",
       "      <td>4</td>\n",
       "      <td>NaN</td>\n",
       "      <td>14</td>\n",
       "      <td>15.5</td>\n",
       "      <td>13.5</td>\n",
       "      <td>16</td>\n",
       "    </tr>\n",
       "    <tr>\n",
       "      <td>...</td>\n",
       "      <td>...</td>\n",
       "      <td>...</td>\n",
       "      <td>...</td>\n",
       "      <td>...</td>\n",
       "      <td>...</td>\n",
       "    </tr>\n",
       "    <tr>\n",
       "      <td>59</td>\n",
       "      <td>17</td>\n",
       "      <td>18.5</td>\n",
       "      <td>19</td>\n",
       "      <td>19.5</td>\n",
       "      <td>17.5</td>\n",
       "    </tr>\n",
       "    <tr>\n",
       "      <td>60</td>\n",
       "      <td>19</td>\n",
       "      <td>19</td>\n",
       "      <td>20</td>\n",
       "      <td>15.5</td>\n",
       "      <td>17.5</td>\n",
       "    </tr>\n",
       "    <tr>\n",
       "      <td>61</td>\n",
       "      <td>20</td>\n",
       "      <td>19.5</td>\n",
       "      <td>19.5</td>\n",
       "      <td>12.5</td>\n",
       "      <td>18</td>\n",
       "    </tr>\n",
       "    <tr>\n",
       "      <td>62</td>\n",
       "      <td>19</td>\n",
       "      <td>20</td>\n",
       "      <td>20</td>\n",
       "      <td>15.5</td>\n",
       "      <td>17</td>\n",
       "    </tr>\n",
       "    <tr>\n",
       "      <td>63</td>\n",
       "      <td>20</td>\n",
       "      <td>19.5</td>\n",
       "      <td>18.5</td>\n",
       "      <td>18.5</td>\n",
       "      <td>0</td>\n",
       "    </tr>\n",
       "  </tbody>\n",
       "</table>\n",
       "<p>64 rows × 5 columns</p>\n",
       "</div>"
      ],
      "text/plain": [
       "   Homework 1 [Total Pts: 20 Score] |1293619  \\\n",
       "0                                       12.5   \n",
       "1                                         19   \n",
       "2                                         16   \n",
       "3                                         14   \n",
       "4                                        NaN   \n",
       "..                                       ...   \n",
       "59                                        17   \n",
       "60                                        19   \n",
       "61                                        20   \n",
       "62                                        19   \n",
       "63                                        20   \n",
       "\n",
       "   Homework 2 [Total Pts: 20 Score] |1297002  \\\n",
       "0                                         18   \n",
       "1                                         18   \n",
       "2                                       18.5   \n",
       "3                                       16.5   \n",
       "4                                         14   \n",
       "..                                       ...   \n",
       "59                                      18.5   \n",
       "60                                        19   \n",
       "61                                      19.5   \n",
       "62                                        20   \n",
       "63                                      19.5   \n",
       "\n",
       "   Homework 3 [Total Pts: 20 Score] |1301007  \\\n",
       "0                                         20   \n",
       "1                                         15   \n",
       "2                                         20   \n",
       "3                                          0   \n",
       "4                                       15.5   \n",
       "..                                       ...   \n",
       "59                                        19   \n",
       "60                                        20   \n",
       "61                                      19.5   \n",
       "62                                        20   \n",
       "63                                      18.5   \n",
       "\n",
       "   Homework 4 [Total Pts: 20 Score] |1308148  \\\n",
       "0                                       11.5   \n",
       "1                                       17.5   \n",
       "2                                       17.5   \n",
       "3                                        6.5   \n",
       "4                                       13.5   \n",
       "..                                       ...   \n",
       "59                                      19.5   \n",
       "60                                      15.5   \n",
       "61                                      12.5   \n",
       "62                                      15.5   \n",
       "63                                      18.5   \n",
       "\n",
       "   Homework 5 [Total Pts: 20 Score] |1311965  \n",
       "0                                       12.5  \n",
       "1                                       16.5  \n",
       "2                                         18  \n",
       "3                                        NaN  \n",
       "4                                         16  \n",
       "..                                       ...  \n",
       "59                                      17.5  \n",
       "60                                      17.5  \n",
       "61                                        18  \n",
       "62                                        17  \n",
       "63                                         0  \n",
       "\n",
       "[64 rows x 5 columns]"
      ]
     },
     "execution_count": 6,
     "metadata": {},
     "output_type": "execute_result"
    }
   ],
   "source": [
    "df_hwt = df_hw.transpose()\n",
    "df_hwt"
   ]
  },
  {
   "cell_type": "code",
   "execution_count": 7,
   "metadata": {},
   "outputs": [
    {
     "data": {
      "text/plain": [
       "<matplotlib.axes._subplots.AxesSubplot at 0x2155275db38>"
      ]
     },
     "execution_count": 7,
     "metadata": {},
     "output_type": "execute_result"
    },
    {
     "data": {
      "image/png": "[encoded data removed]",
      "text/plain": [
       "<Figure size 432x288 with 1 Axes>"
      ]
     },
     "metadata": {
      "needs_background": "light"
     },
     "output_type": "display_data"
    }
   ],
   "source": [
    "sns.barplot( data = df_hwt)"
   ]
  },
  {
   "cell_type": "code",
   "execution_count": 8,
   "metadata": {},
   "outputs": [
    {
     "name": "stderr",
     "output_type": "stream",
     "text": [
      "C:\\Users\\brent\\Anaconda3\\envs\\teensorflow\\lib\\site-packages\\seaborn\\categorical.py:1324: RuntimeWarning: invalid value encountered in less\n",
      "  off_low = points < low_gutter\n",
      "C:\\Users\\brent\\Anaconda3\\envs\\teensorflow\\lib\\site-packages\\seaborn\\categorical.py:1328: RuntimeWarning: invalid value encountered in greater\n",
      "  off_high = points > high_gutter\n"
     ]
    },
    {
     "data": {
      "text/plain": [
       "<matplotlib.axes._subplots.AxesSubplot at 0x215527d9710>"
      ]
     },
     "execution_count": 8,
     "metadata": {},
     "output_type": "execute_result"
    },
    {
     "data": {
      "image/png": "[encoded data removed]",
      "text/plain": [
       "<Figure size 432x288 with 1 Axes>"
      ]
     },
     "metadata": {
      "needs_background": "light"
     },
     "output_type": "display_data"
    }
   ],
   "source": [
    "sns.swarmplot(data = df_hwt)"
   ]
  },
  {
   "cell_type": "code",
   "execution_count": 9,
   "metadata": {},
   "outputs": [
    {
     "data": {
      "text/html": [
       "<div>\n",
       "<style scoped>\n",
       "    .dataframe tbody tr th:only-of-type {\n",
       "        vertical-align: middle;\n",
       "    }\n",
       "\n",
       "    .dataframe tbody tr th {\n",
       "        vertical-align: top;\n",
       "    }\n",
       "\n",
       "    .dataframe thead th {\n",
       "        text-align: right;\n",
       "    }\n",
       "</style>\n",
       "<table border=\"1\" class=\"dataframe\">\n",
       "  <thead>\n",
       "    <tr style=\"text-align: right;\">\n",
       "      <th></th>\n",
       "      <th>Date</th>\n",
       "      <th>Symbol</th>\n",
       "      <th>Open</th>\n",
       "      <th>High</th>\n",
       "      <th>Low</th>\n",
       "      <th>Close</th>\n",
       "      <th>Volume</th>\n",
       "    </tr>\n",
       "  </thead>\n",
       "  <tbody>\n",
       "    <tr>\n",
       "      <td>0</td>\n",
       "      <td>20090821</td>\n",
       "      <td>A</td>\n",
       "      <td>25.60</td>\n",
       "      <td>25.6100</td>\n",
       "      <td>25.220</td>\n",
       "      <td>25.55</td>\n",
       "      <td>34758</td>\n",
       "    </tr>\n",
       "    <tr>\n",
       "      <td>1</td>\n",
       "      <td>20090824</td>\n",
       "      <td>A</td>\n",
       "      <td>25.64</td>\n",
       "      <td>25.7400</td>\n",
       "      <td>25.330</td>\n",
       "      <td>25.50</td>\n",
       "      <td>22247</td>\n",
       "    </tr>\n",
       "    <tr>\n",
       "      <td>2</td>\n",
       "      <td>20090825</td>\n",
       "      <td>A</td>\n",
       "      <td>25.50</td>\n",
       "      <td>25.7000</td>\n",
       "      <td>25.225</td>\n",
       "      <td>25.34</td>\n",
       "      <td>30891</td>\n",
       "    </tr>\n",
       "    <tr>\n",
       "      <td>3</td>\n",
       "      <td>20090826</td>\n",
       "      <td>A</td>\n",
       "      <td>25.32</td>\n",
       "      <td>25.6425</td>\n",
       "      <td>25.145</td>\n",
       "      <td>25.48</td>\n",
       "      <td>33334</td>\n",
       "    </tr>\n",
       "    <tr>\n",
       "      <td>4</td>\n",
       "      <td>20090827</td>\n",
       "      <td>A</td>\n",
       "      <td>25.50</td>\n",
       "      <td>25.5700</td>\n",
       "      <td>25.230</td>\n",
       "      <td>25.54</td>\n",
       "      <td>70176</td>\n",
       "    </tr>\n",
       "  </tbody>\n",
       "</table>\n",
       "</div>"
      ],
      "text/plain": [
       "       Date Symbol   Open     High     Low  Close  Volume\n",
       "0  20090821      A  25.60  25.6100  25.220  25.55   34758\n",
       "1  20090824      A  25.64  25.7400  25.330  25.50   22247\n",
       "2  20090825      A  25.50  25.7000  25.225  25.34   30891\n",
       "3  20090826      A  25.32  25.6425  25.145  25.48   33334\n",
       "4  20090827      A  25.50  25.5700  25.230  25.54   70176"
      ]
     },
     "execution_count": 9,
     "metadata": {},
     "output_type": "execute_result"
    }
   ],
   "source": [
    "df_sp500.head()"
   ]
  },
  {
   "cell_type": "code",
   "execution_count": 10,
   "metadata": {},
   "outputs": [
    {
     "data": {
      "text/plain": [
       "Index(['Date', 'Symbol', 'Open', 'High', 'Low', 'Close', 'Volume'], dtype='object')"
      ]
     },
     "execution_count": 10,
     "metadata": {},
     "output_type": "execute_result"
    }
   ],
   "source": [
    "df_sp500.columns"
   ]
  },
  {
   "cell_type": "code",
   "execution_count": 11,
   "metadata": {},
   "outputs": [],
   "source": [
    "df_aapl = df_sp500.loc[lambda df_sp500: df_sp500['Symbol']=='AAPL']"
   ]
  },
  {
   "cell_type": "code",
   "execution_count": 12,
   "metadata": {},
   "outputs": [],
   "source": [
    "df_mfst = df_sp500.loc[lambda df_sp500: df_sp500['Symbol']=='MSFT']"
   ]
  },
  {
   "cell_type": "code",
   "execution_count": 13,
   "metadata": {},
   "outputs": [],
   "source": [
    "frame = [df_aapl, df_mfst]"
   ]
  },
  {
   "cell_type": "code",
   "execution_count": 14,
   "metadata": {},
   "outputs": [
    {
     "data": {
      "text/html": [
       "<div>\n",
       "<style scoped>\n",
       "    .dataframe tbody tr th:only-of-type {\n",
       "        vertical-align: middle;\n",
       "    }\n",
       "\n",
       "    .dataframe tbody tr th {\n",
       "        vertical-align: top;\n",
       "    }\n",
       "\n",
       "    .dataframe thead th {\n",
       "        text-align: right;\n",
       "    }\n",
       "</style>\n",
       "<table border=\"1\" class=\"dataframe\">\n",
       "  <thead>\n",
       "    <tr style=\"text-align: right;\">\n",
       "      <th></th>\n",
       "      <th>Date</th>\n",
       "      <th>Symbol</th>\n",
       "      <th>Open</th>\n",
       "      <th>High</th>\n",
       "      <th>Low</th>\n",
       "      <th>Close</th>\n",
       "      <th>Volume</th>\n",
       "    </tr>\n",
       "  </thead>\n",
       "  <tbody>\n",
       "    <tr>\n",
       "      <td>74984</td>\n",
       "      <td>20090821</td>\n",
       "      <td>MSFT</td>\n",
       "      <td>23.93</td>\n",
       "      <td>24.4200</td>\n",
       "      <td>23.77</td>\n",
       "      <td>24.41</td>\n",
       "      <td>690189</td>\n",
       "    </tr>\n",
       "    <tr>\n",
       "      <td>74985</td>\n",
       "      <td>20090824</td>\n",
       "      <td>MSFT</td>\n",
       "      <td>24.37</td>\n",
       "      <td>24.7326</td>\n",
       "      <td>24.28</td>\n",
       "      <td>24.64</td>\n",
       "      <td>541808</td>\n",
       "    </tr>\n",
       "    <tr>\n",
       "      <td>74986</td>\n",
       "      <td>20090825</td>\n",
       "      <td>MSFT</td>\n",
       "      <td>24.60</td>\n",
       "      <td>24.8200</td>\n",
       "      <td>24.46</td>\n",
       "      <td>24.64</td>\n",
       "      <td>439802</td>\n",
       "    </tr>\n",
       "    <tr>\n",
       "      <td>74987</td>\n",
       "      <td>20090826</td>\n",
       "      <td>MSFT</td>\n",
       "      <td>24.56</td>\n",
       "      <td>24.7500</td>\n",
       "      <td>24.42</td>\n",
       "      <td>24.55</td>\n",
       "      <td>410790</td>\n",
       "    </tr>\n",
       "    <tr>\n",
       "      <td>74988</td>\n",
       "      <td>20090827</td>\n",
       "      <td>MSFT</td>\n",
       "      <td>24.42</td>\n",
       "      <td>24.7800</td>\n",
       "      <td>24.30</td>\n",
       "      <td>24.69</td>\n",
       "      <td>454956</td>\n",
       "    </tr>\n",
       "    <tr>\n",
       "      <td>...</td>\n",
       "      <td>...</td>\n",
       "      <td>...</td>\n",
       "      <td>...</td>\n",
       "      <td>...</td>\n",
       "      <td>...</td>\n",
       "      <td>...</td>\n",
       "      <td>...</td>\n",
       "    </tr>\n",
       "    <tr>\n",
       "      <td>75221</td>\n",
       "      <td>20100813</td>\n",
       "      <td>MSFT</td>\n",
       "      <td>24.34</td>\n",
       "      <td>24.6700</td>\n",
       "      <td>24.24</td>\n",
       "      <td>24.40</td>\n",
       "      <td>452634</td>\n",
       "    </tr>\n",
       "    <tr>\n",
       "      <td>75222</td>\n",
       "      <td>20100816</td>\n",
       "      <td>MSFT</td>\n",
       "      <td>24.34</td>\n",
       "      <td>24.6100</td>\n",
       "      <td>24.30</td>\n",
       "      <td>24.50</td>\n",
       "      <td>409683</td>\n",
       "    </tr>\n",
       "    <tr>\n",
       "      <td>75223</td>\n",
       "      <td>20100817</td>\n",
       "      <td>MSFT</td>\n",
       "      <td>24.70</td>\n",
       "      <td>24.9600</td>\n",
       "      <td>24.60</td>\n",
       "      <td>24.71</td>\n",
       "      <td>529350</td>\n",
       "    </tr>\n",
       "    <tr>\n",
       "      <td>75224</td>\n",
       "      <td>20100819</td>\n",
       "      <td>MSFT</td>\n",
       "      <td>24.58</td>\n",
       "      <td>24.7400</td>\n",
       "      <td>24.21</td>\n",
       "      <td>24.44</td>\n",
       "      <td>540690</td>\n",
       "    </tr>\n",
       "    <tr>\n",
       "      <td>75225</td>\n",
       "      <td>20100820</td>\n",
       "      <td>MSFT</td>\n",
       "      <td>24.31</td>\n",
       "      <td>24.4000</td>\n",
       "      <td>24.20</td>\n",
       "      <td>24.23</td>\n",
       "      <td>495657</td>\n",
       "    </tr>\n",
       "  </tbody>\n",
       "</table>\n",
       "<p>242 rows × 7 columns</p>\n",
       "</div>"
      ],
      "text/plain": [
       "           Date Symbol   Open     High    Low  Close  Volume\n",
       "74984  20090821   MSFT  23.93  24.4200  23.77  24.41  690189\n",
       "74985  20090824   MSFT  24.37  24.7326  24.28  24.64  541808\n",
       "74986  20090825   MSFT  24.60  24.8200  24.46  24.64  439802\n",
       "74987  20090826   MSFT  24.56  24.7500  24.42  24.55  410790\n",
       "74988  20090827   MSFT  24.42  24.7800  24.30  24.69  454956\n",
       "...         ...    ...    ...      ...    ...    ...     ...\n",
       "75221  20100813   MSFT  24.34  24.6700  24.24  24.40  452634\n",
       "75222  20100816   MSFT  24.34  24.6100  24.30  24.50  409683\n",
       "75223  20100817   MSFT  24.70  24.9600  24.60  24.71  529350\n",
       "75224  20100819   MSFT  24.58  24.7400  24.21  24.44  540690\n",
       "75225  20100820   MSFT  24.31  24.4000  24.20  24.23  495657\n",
       "\n",
       "[242 rows x 7 columns]"
      ]
     },
     "execution_count": 14,
     "metadata": {},
     "output_type": "execute_result"
    }
   ],
   "source": [
    "df_mfst"
   ]
  },
  {
   "cell_type": "code",
   "execution_count": 15,
   "metadata": {},
   "outputs": [],
   "source": [
    "df_AM = pd.concat(frame)"
   ]
  },
  {
   "cell_type": "code",
   "execution_count": 16,
   "metadata": {},
   "outputs": [
    {
     "data": {
      "text/plain": [
       "<matplotlib.axes._subplots.AxesSubplot at 0x2155288d8d0>"
      ]
     },
     "execution_count": 16,
     "metadata": {},
     "output_type": "execute_result"
    },
    {
     "data": {
      "image/png": "[encoded data removed]",
      "text/plain": [
       "<Figure size 432x288 with 1 Axes>"
      ]
     },
     "metadata": {
      "needs_background": "light"
     },
     "output_type": "display_data"
    }
   ],
   "source": [
    "sns.lineplot(x = 'Date', y='Close', hue = 'Symbol', data = df_AM)"
   ]
  },
  {
   "cell_type": "code",
   "execution_count": 17,
   "metadata": {},
   "outputs": [],
   "source": [
    "df_A = df_sp500.loc[lambda df_sp500:df_sp500['Symbol']=='A']"
   ]
  },
  {
   "cell_type": "code",
   "execution_count": 18,
   "metadata": {},
   "outputs": [],
   "source": [
    "frame = [df_A, df_mfst, df_aapl]"
   ]
  },
  {
   "cell_type": "code",
   "execution_count": 19,
   "metadata": {},
   "outputs": [],
   "source": [
    "df_AAM = pd.concat(frame)"
   ]
  },
  {
   "cell_type": "code",
   "execution_count": 20,
   "metadata": {},
   "outputs": [
    {
     "data": {
      "text/html": [
       "<div>\n",
       "<style scoped>\n",
       "    .dataframe tbody tr th:only-of-type {\n",
       "        vertical-align: middle;\n",
       "    }\n",
       "\n",
       "    .dataframe tbody tr th {\n",
       "        vertical-align: top;\n",
       "    }\n",
       "\n",
       "    .dataframe thead th {\n",
       "        text-align: right;\n",
       "    }\n",
       "</style>\n",
       "<table border=\"1\" class=\"dataframe\">\n",
       "  <thead>\n",
       "    <tr style=\"text-align: right;\">\n",
       "      <th></th>\n",
       "      <th>Date</th>\n",
       "      <th>Symbol</th>\n",
       "      <th>Open</th>\n",
       "      <th>High</th>\n",
       "      <th>Low</th>\n",
       "      <th>Close</th>\n",
       "      <th>Volume</th>\n",
       "    </tr>\n",
       "  </thead>\n",
       "  <tbody>\n",
       "    <tr>\n",
       "      <td>0</td>\n",
       "      <td>20090821</td>\n",
       "      <td>A</td>\n",
       "      <td>25.60</td>\n",
       "      <td>25.6100</td>\n",
       "      <td>25.220</td>\n",
       "      <td>25.55</td>\n",
       "      <td>34758</td>\n",
       "    </tr>\n",
       "    <tr>\n",
       "      <td>1</td>\n",
       "      <td>20090824</td>\n",
       "      <td>A</td>\n",
       "      <td>25.64</td>\n",
       "      <td>25.7400</td>\n",
       "      <td>25.330</td>\n",
       "      <td>25.50</td>\n",
       "      <td>22247</td>\n",
       "    </tr>\n",
       "    <tr>\n",
       "      <td>2</td>\n",
       "      <td>20090825</td>\n",
       "      <td>A</td>\n",
       "      <td>25.50</td>\n",
       "      <td>25.7000</td>\n",
       "      <td>25.225</td>\n",
       "      <td>25.34</td>\n",
       "      <td>30891</td>\n",
       "    </tr>\n",
       "    <tr>\n",
       "      <td>3</td>\n",
       "      <td>20090826</td>\n",
       "      <td>A</td>\n",
       "      <td>25.32</td>\n",
       "      <td>25.6425</td>\n",
       "      <td>25.145</td>\n",
       "      <td>25.48</td>\n",
       "      <td>33334</td>\n",
       "    </tr>\n",
       "    <tr>\n",
       "      <td>4</td>\n",
       "      <td>20090827</td>\n",
       "      <td>A</td>\n",
       "      <td>25.50</td>\n",
       "      <td>25.5700</td>\n",
       "      <td>25.230</td>\n",
       "      <td>25.54</td>\n",
       "      <td>70176</td>\n",
       "    </tr>\n",
       "    <tr>\n",
       "      <td>...</td>\n",
       "      <td>...</td>\n",
       "      <td>...</td>\n",
       "      <td>...</td>\n",
       "      <td>...</td>\n",
       "      <td>...</td>\n",
       "      <td>...</td>\n",
       "      <td>...</td>\n",
       "    </tr>\n",
       "    <tr>\n",
       "      <td>726</td>\n",
       "      <td>20100813</td>\n",
       "      <td>AAPL</td>\n",
       "      <td>251.03</td>\n",
       "      <td>251.8800</td>\n",
       "      <td>249.090</td>\n",
       "      <td>249.10</td>\n",
       "      <td>126738</td>\n",
       "    </tr>\n",
       "    <tr>\n",
       "      <td>727</td>\n",
       "      <td>20100816</td>\n",
       "      <td>AAPL</td>\n",
       "      <td>247.72</td>\n",
       "      <td>250.0100</td>\n",
       "      <td>246.620</td>\n",
       "      <td>247.64</td>\n",
       "      <td>113724</td>\n",
       "    </tr>\n",
       "    <tr>\n",
       "      <td>728</td>\n",
       "      <td>20100817</td>\n",
       "      <td>AAPL</td>\n",
       "      <td>250.11</td>\n",
       "      <td>254.6300</td>\n",
       "      <td>249.200</td>\n",
       "      <td>251.97</td>\n",
       "      <td>150946</td>\n",
       "    </tr>\n",
       "    <tr>\n",
       "      <td>729</td>\n",
       "      <td>20100819</td>\n",
       "      <td>AAPL</td>\n",
       "      <td>252.78</td>\n",
       "      <td>253.4800</td>\n",
       "      <td>248.680</td>\n",
       "      <td>249.88</td>\n",
       "      <td>152394</td>\n",
       "    </tr>\n",
       "    <tr>\n",
       "      <td>730</td>\n",
       "      <td>20100820</td>\n",
       "      <td>AAPL</td>\n",
       "      <td>249.38</td>\n",
       "      <td>253.9200</td>\n",
       "      <td>249.000</td>\n",
       "      <td>249.64</td>\n",
       "      <td>137224</td>\n",
       "    </tr>\n",
       "  </tbody>\n",
       "</table>\n",
       "<p>728 rows × 7 columns</p>\n",
       "</div>"
      ],
      "text/plain": [
       "         Date Symbol    Open      High      Low   Close  Volume\n",
       "0    20090821      A   25.60   25.6100   25.220   25.55   34758\n",
       "1    20090824      A   25.64   25.7400   25.330   25.50   22247\n",
       "2    20090825      A   25.50   25.7000   25.225   25.34   30891\n",
       "3    20090826      A   25.32   25.6425   25.145   25.48   33334\n",
       "4    20090827      A   25.50   25.5700   25.230   25.54   70176\n",
       "..        ...    ...     ...       ...      ...     ...     ...\n",
       "726  20100813   AAPL  251.03  251.8800  249.090  249.10  126738\n",
       "727  20100816   AAPL  247.72  250.0100  246.620  247.64  113724\n",
       "728  20100817   AAPL  250.11  254.6300  249.200  251.97  150946\n",
       "729  20100819   AAPL  252.78  253.4800  248.680  249.88  152394\n",
       "730  20100820   AAPL  249.38  253.9200  249.000  249.64  137224\n",
       "\n",
       "[728 rows x 7 columns]"
      ]
     },
     "execution_count": 20,
     "metadata": {},
     "output_type": "execute_result"
    }
   ],
   "source": [
    "df_AAM"
   ]
  },
  {
   "cell_type": "code",
   "execution_count": 26,
   "metadata": {},
   "outputs": [
    {
     "data": {
      "text/plain": [
       "<matplotlib.axes._subplots.AxesSubplot at 0x21554d4cf60>"
      ]
     },
     "execution_count": 26,
     "metadata": {},
     "output_type": "execute_result"
    },
    {
     "data": {
      "image/png": "[encoded data removed]",
      "text/plain": [
       "<Figure size 432x288 with 1 Axes>"
      ]
     },
     "metadata": {
      "needs_background": "light"
     },
     "output_type": "display_data"
    }
   ],
   "source": [
    "sns.kdeplot(df_AM.Date, df_AM.Volume)"
   ]
  },
  {
   "cell_type": "code",
   "execution_count": 30,
   "metadata": {},
   "outputs": [
    {
     "data": {
      "text/plain": [
       "<matplotlib.axes._subplots.AxesSubplot at 0x21556945278>"
      ]
     },
     "execution_count": 30,
     "metadata": {},
     "output_type": "execute_result"
    },
    {
     "data": {
      "image/png": "[encoded data removed]",
      "text/plain": [
       "<Figure size 432x288 with 1 Axes>"
      ]
     },
     "metadata": {
      "needs_background": "light"
     },
     "output_type": "display_data"
    }
   ],
   "source": [
    "sns.swarmplot(x='Date',y='Volume',data = df_AAM, hue = 'Symbol')"
   ]
  },
  {
   "cell_type": "code",
   "execution_count": null,
   "metadata": {},
   "outputs": [],
   "source": []
  }
 ],
 "metadata": {
  "kernelspec": {
   "display_name": "Python 3",
   "language": "python",
   "name": "python3"
  },
  "language_info": {
   "codemirror_mode": {
    "name": "ipython",
    "version": 3
   },
   "file_extension": ".py",
   "mimetype": "text/x-python",
   "name": "python",
   "nbconvert_exporter": "python",
   "pygments_lexer": "ipython3",
   "version": "3.6.9"
  }
 },
 "nbformat": 4,
 "nbformat_minor": 2
}
